{
  "nbformat": 4,
  "nbformat_minor": 0,
  "metadata": {
    "colab": {
      "name": "guia numpy.ipynb",
      "provenance": [],
      "collapsed_sections": [],
      "authorship_tag": "ABX9TyMEYigItDeFNRv/t76NTAtN",
      "include_colab_link": true
    },
    "kernelspec": {
      "name": "python3",
      "display_name": "Python 3"
    },
    "language_info": {
      "name": "python"
    }
  },
  "cells": [
    {
      "cell_type": "markdown",
      "metadata": {
        "id": "view-in-github",
        "colab_type": "text"
      },
      "source": [
        "<a href=\"https://colab.research.google.com/github/dgiampapa/portafolio/blob/master/guia_numpy.ipynb\" target=\"_parent\"><img src=\"https://colab.research.google.com/assets/colab-badge.svg\" alt=\"Open In Colab\"/></a>"
      ]
    },
    {
      "cell_type": "code",
      "source": [
        "import numpy as np"
      ],
      "metadata": {
        "id": "zc50lxz9Xh54"
      },
      "execution_count": 2,
      "outputs": []
    },
    {
      "cell_type": "code",
      "execution_count": 4,
      "metadata": {
        "colab": {
          "base_uri": "https://localhost:8080/"
        },
        "id": "tBnJTJk0XQe6",
        "outputId": "cc81eae1-9600-447c-ed0f-656f06e520c5"
      },
      "outputs": [
        {
          "output_type": "stream",
          "name": "stdout",
          "text": [
            "[1 2 3 4 5]\n",
            "<class 'numpy.ndarray'>\n"
          ]
        }
      ],
      "source": [
        "'''Para crear un ndarray, podemos pasar una lista, una tupla o cualquier objeto similar a un arreglo al arreglo(\n",
        "método, y se convertirá en un ndarray:'''\n",
        "\n",
        "arr=np.array([1,2,3,4,5]) #creando arreglo\n",
        "print (arr) #imprimiendo el arreglo\n",
        "print(type(arr)) #imprimiendo el tipo de datos"
      ]
    },
    {
      "cell_type": "code",
      "source": [
        "''' Chequeado la version de numpy instalada '''\n",
        "print(np.__version__) #Chequeando la version de numpy instalada"
      ],
      "metadata": {
        "colab": {
          "base_uri": "https://localhost:8080/"
        },
        "id": "beq546yXXgzL",
        "outputId": "159350a4-e5e9-48d4-83b4-9bf2cad77739"
      },
      "execution_count": 5,
      "outputs": [
        {
          "output_type": "stream",
          "name": "stdout",
          "text": [
            "1.21.6\n"
          ]
        }
      ]
    },
    {
      "cell_type": "code",
      "source": [
        ""
      ],
      "metadata": {
        "id": "6xQa703XYXWj"
      },
      "execution_count": null,
      "outputs": []
    }
  ]
}