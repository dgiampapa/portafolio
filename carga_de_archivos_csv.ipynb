{
  "nbformat": 4,
  "nbformat_minor": 0,
  "metadata": {
    "colab": {
      "provenance": [],
      "mount_file_id": "1ZOkIDjFdkchQQjRiRXCRXkeCqOHfhpyA",
      "authorship_tag": "ABX9TyOiQYhEi/duvBBMTn0ehNzl",
      "include_colab_link": true
    },
    "kernelspec": {
      "name": "python3",
      "display_name": "Python 3"
    },
    "language_info": {
      "name": "python"
    }
  },
  "cells": [
    {
      "cell_type": "markdown",
      "metadata": {
        "id": "view-in-github",
        "colab_type": "text"
      },
      "source": [
        "<a href=\"https://colab.research.google.com/github/dgiampapa/portafolio/blob/master/carga_de_archivos_csv.ipynb\" target=\"_parent\"><img src=\"https://colab.research.google.com/assets/colab-badge.svg\" alt=\"Open In Colab\"/></a>"
      ]
    },
    {
      "cell_type": "markdown",
      "source": [
        "Daniel Giampapa\n",
        "https://www.linkedin.com/in/danielgiampapa/\n",
        "\n",
        "Github: https://github.com/dgiampapa/portafolio\n",
        "\n",
        "\n",
        "\n",
        "---\n",
        "\n",
        "\n",
        "\n",
        "Este notebook contiene la comparacion de la lectura de diferentes librerias opcionales a pandas, realizando la comparacion de la carga de un archivo de 238MB que contiene 1.600.000 tweets para realizar analisis de sentimiento. \n",
        "\n",
        "Se utiliza este archivo por la cantidad de elementos que contiene. Se deja el link del archivo que esta en [www.kaggle.com](https://www.kaggle.com) para que sea descargado y utilizado en el notebook. \n",
        "\n",
        "Se utilizan 3 librerias que cargan un dataset y se realiza la comparacion de los tiempo de carga. \n",
        "\n",
        "Las librerias son:\n",
        "\n",
        "* Polars\n",
        "* Datatable\n",
        "* Pandas\n",
        "\n",
        "ubicacion de archivo con el que se realizo la prueba desde kaggle:\n",
        "https://www.kaggle.com/datasets/kazanova/sentiment140?resource=download\n",
        "\n",
        "**Documentacion de libreria polars:**\n",
        "https://pola-rs.github.io/polars-book/user-guide/\n",
        "\n",
        "**Documentacion de libreria datatable:**\n",
        "https://datatable.readthedocs.io/en/latest/start/quick-start.html\n",
        "\n",
        "**Documentacion de libreria pandas:**\n",
        "https://pandas.pydata.org/docs/user_guide/\n",
        "\n"
      ],
      "metadata": {
        "id": "RFv5zjnV__Qw"
      }
    },
    {
      "cell_type": "code",
      "source": [
        "import time\n",
        "\n",
        "ruta = '/content/drive/MyDrive/datos/training.1600000.processed.noemoticon.csv'"
      ],
      "metadata": {
        "id": "CdVJ3G-JDj6v"
      },
      "execution_count": 1,
      "outputs": []
    },
    {
      "cell_type": "markdown",
      "source": [
        "# Carga de archivos"
      ],
      "metadata": {
        "id": "i61MfMHb8Y1p"
      }
    },
    {
      "cell_type": "markdown",
      "source": [
        "## Polars"
      ],
      "metadata": {
        "id": "82wSoGmWEVMP"
      }
    },
    {
      "cell_type": "code",
      "source": [
        "# Instalacion de libreira \n",
        "!pip install \"polars==0.13.37\""
      ],
      "metadata": {
        "colab": {
          "base_uri": "https://localhost:8080/"
        },
        "id": "uYCKhYWn8iVy",
        "outputId": "fdf37ee3-67c5-4624-e254-017e493e699b"
      },
      "execution_count": 2,
      "outputs": [
        {
          "output_type": "stream",
          "name": "stdout",
          "text": [
            "Looking in indexes: https://pypi.org/simple, https://us-python.pkg.dev/colab-wheels/public/simple/\n",
            "Collecting polars==0.13.37\n",
            "  Downloading polars-0.13.37-cp37-abi3-manylinux_2_12_x86_64.manylinux2010_x86_64.whl (11.5 MB)\n",
            "\u001b[K     |████████████████████████████████| 11.5 MB 4.3 MB/s \n",
            "\u001b[?25hRequirement already satisfied: numpy>=1.16.0 in /usr/local/lib/python3.7/dist-packages (from polars==0.13.37) (1.21.6)\n",
            "Requirement already satisfied: typing_extensions>=4.0.0 in /usr/local/lib/python3.7/dist-packages (from polars==0.13.37) (4.1.1)\n",
            "Installing collected packages: polars\n",
            "Successfully installed polars-0.13.37\n"
          ]
        }
      ]
    },
    {
      "cell_type": "code",
      "execution_count": 3,
      "metadata": {
        "id": "ZhEfhgFJ76nS"
      },
      "outputs": [],
      "source": [
        "import polars as pl"
      ]
    },
    {
      "cell_type": "code",
      "source": [
        "star_polars = time.time()\n",
        "df_polars = pl.read_csv(ruta, encoding=\"utf8-lossy\")\n",
        "stop_polars = time.time()"
      ],
      "metadata": {
        "id": "lMF1yrJmDty5"
      },
      "execution_count": 16,
      "outputs": []
    },
    {
      "cell_type": "markdown",
      "source": [
        "## Datatable"
      ],
      "metadata": {
        "id": "M53qF94mEYdF"
      }
    },
    {
      "cell_type": "code",
      "source": [
        "!pip install datatable"
      ],
      "metadata": {
        "colab": {
          "base_uri": "https://localhost:8080/"
        },
        "id": "w8zbHm_nEt5l",
        "outputId": "628e9967-dfdf-4ef2-bf11-3e55fdf92eab"
      },
      "execution_count": 5,
      "outputs": [
        {
          "output_type": "stream",
          "name": "stdout",
          "text": [
            "Looking in indexes: https://pypi.org/simple, https://us-python.pkg.dev/colab-wheels/public/simple/\n",
            "Collecting datatable\n",
            "  Downloading datatable-1.0.0-cp37-cp37m-manylinux_2_12_x86_64.whl (96.9 MB)\n",
            "\u001b[K     |████████████████████████████████| 96.9 MB 113 kB/s \n",
            "\u001b[?25hInstalling collected packages: datatable\n",
            "Successfully installed datatable-1.0.0\n"
          ]
        }
      ]
    },
    {
      "cell_type": "code",
      "source": [
        "import datatable as dt"
      ],
      "metadata": {
        "colab": {
          "base_uri": "https://localhost:8080/",
          "height": 17
        },
        "id": "vjuZsp4jEaqS",
        "outputId": "540d9326-5ce7-4b03-f094-cb3042c6e39a"
      },
      "execution_count": 6,
      "outputs": [
        {
          "output_type": "display_data",
          "data": {
            "text/plain": [
              "<IPython.core.display.HTML object>"
            ],
            "text/html": [
              "<style type='text/css'>\n",
              ".datatable table.frame { margin-bottom: 0; }\n",
              ".datatable table.frame thead { border-bottom: none; }\n",
              ".datatable table.frame tr.coltypes td {  color: #FFFFFF;  line-height: 6px;  padding: 0 0.5em;}\n",
              ".datatable .bool    { background: #DDDD99; }\n",
              ".datatable .object  { background: #565656; }\n",
              ".datatable .int     { background: #5D9E5D; }\n",
              ".datatable .float   { background: #4040CC; }\n",
              ".datatable .str     { background: #CC4040; }\n",
              ".datatable .time    { background: #40CC40; }\n",
              ".datatable .row_index {  background: var(--jp-border-color3);  border-right: 1px solid var(--jp-border-color0);  color: var(--jp-ui-font-color3);  font-size: 9px;}\n",
              ".datatable .frame tbody td { text-align: left; }\n",
              ".datatable .frame tr.coltypes .row_index {  background: var(--jp-border-color0);}\n",
              ".datatable th:nth-child(2) { padding-left: 12px; }\n",
              ".datatable .hellipsis {  color: var(--jp-cell-editor-border-color);}\n",
              ".datatable .vellipsis {  background: var(--jp-layout-color0);  color: var(--jp-cell-editor-border-color);}\n",
              ".datatable .na {  color: var(--jp-cell-editor-border-color);  font-size: 80%;}\n",
              ".datatable .sp {  opacity: 0.25;}\n",
              ".datatable .footer { font-size: 9px; }\n",
              ".datatable .frame_dimensions {  background: var(--jp-border-color3);  border-top: 1px solid var(--jp-border-color0);  color: var(--jp-ui-font-color3);  display: inline-block;  opacity: 0.6;  padding: 1px 10px 1px 5px;}\n",
              "</style>\n"
            ]
          },
          "metadata": {}
        }
      ]
    },
    {
      "cell_type": "code",
      "source": [
        "star_datatable = time.time()\n",
        "df_datatable = dt.fread(ruta, encoding = \"ISO-8859-1\")\n",
        "stop_datatable = time.time()"
      ],
      "metadata": {
        "id": "NIpRTiDbE0xr"
      },
      "execution_count": 17,
      "outputs": []
    },
    {
      "cell_type": "markdown",
      "source": [
        "## Pandas"
      ],
      "metadata": {
        "id": "ZkBuzKs3FNXe"
      }
    },
    {
      "cell_type": "code",
      "source": [
        "import pandas as pd"
      ],
      "metadata": {
        "id": "LDIT329sFQUT"
      },
      "execution_count": 9,
      "outputs": []
    },
    {
      "cell_type": "code",
      "source": [
        "star_pandas = time.time()\n",
        "df_pandas = pd.read_csv(ruta, delimiter=',', encoding = \"ISO-8859-1\")\n",
        "stop_pandas = time.time()"
      ],
      "metadata": {
        "id": "u_YieeSpFSrr"
      },
      "execution_count": 18,
      "outputs": []
    },
    {
      "cell_type": "markdown",
      "source": [
        "# Resultados"
      ],
      "metadata": {
        "id": "UvlzY2y9EBCz"
      }
    },
    {
      "cell_type": "code",
      "source": [
        "print (f'Tiempo de respuesta de carga con la libreria Polars {stop_polars - star_polars}')\n",
        "print (f'{stop_datatable - star_datatable}')\n",
        "print (f'{stop_pandas - star_pandas}')"
      ],
      "metadata": {
        "colab": {
          "base_uri": "https://localhost:8080/"
        },
        "id": "IAlq8hgbEEyl",
        "outputId": "233a62e4-09b7-4383-b2fa-70e1042013b8"
      },
      "execution_count": 19,
      "outputs": [
        {
          "output_type": "stream",
          "name": "stdout",
          "text": [
            "1.6618175506591797\n",
            "2.799196243286133\n",
            "10.01659631729126\n"
          ]
        }
      ]
    },
    {
      "cell_type": "code",
      "source": [],
      "metadata": {
        "id": "7254U2ZuGBwP"
      },
      "execution_count": null,
      "outputs": []
    }
  ]
}